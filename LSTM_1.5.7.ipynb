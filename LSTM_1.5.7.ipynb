{
 "cells": [
  {
   "cell_type": "markdown",
   "metadata": {},
   "source": [
    "# AUTOENCODER aug data TESTE DE VALIDAÇÃO CRUZADA"
   ]
  },
  {
   "cell_type": "code",
   "execution_count": 1,
   "metadata": {},
   "outputs": [],
   "source": [
    "# Cell for pip installing required packages\n",
    "# %pip install plaidml-keras\n",
    "# %pip install h5py==2.10\n",
    "# %pip install 'h5py==2.10.0' --force-reinstall\n",
    "\n",
    "# Uninstall current versions\n",
    "# %pip uninstall tensorflow -y\n",
    "# %pip uninstall keras -y\n",
    "\n",
    "# Install specific versions\n",
    "# %pip install tensorflow\n",
    "# %pip install keras==2.1.6\n",
    "\n",
    "# %pip install mediapipe\n",
    "\n",
    "# Install pandas, joblib, and matplotlib\n",
    "# %pip install pandas joblib matplotlib\n",
    "# %pip install scikit-learn"
   ]
  },
  {
   "cell_type": "code",
   "execution_count": 2,
   "metadata": {},
   "outputs": [
    {
     "name": "stdout",
     "output_type": "stream",
     "text": [
      "Num GPUs Available:  0\n",
      "2.13.0\n"
     ]
    }
   ],
   "source": [
    "import os\n",
    "\n",
    "# Ensure that TensorFlow can see the GPU\n",
    "os.environ[\"CUDA_VISIBLE_DEVICES\"] = \"0\" \n",
    "\n",
    "import tensorflow as tf\n",
    "\n",
    "# Check if TensorFlow can access the GPU\n",
    "print(\"Num GPUs Available: \", len(tf.config.experimental.list_physical_devices('GPU')))\n",
    "\n",
    "import numpy as np \n",
    "import pandas as pd\n",
    "import joblib\n",
    "import matplotlib.pyplot as plt\n",
    "\n",
    "# Inicialize listas para armazenar perdas de treinamento e perdas de validação em cada fold\n",
    "from sklearn.preprocessing import MinMaxScaler\n",
    "from tensorflow.keras.models import Sequential\n",
    "from tensorflow.keras.layers import LSTM, Dense, RepeatVector, TimeDistributed\n",
    "from tensorflow.keras.optimizers import Adam\n",
    "from tensorflow.keras.callbacks import EarlyStopping, ModelCheckpoint\n",
    "from sklearn.model_selection import KFold\n",
    "from tensorflow.keras import layers\n",
    "\n",
    "print(tf.__version__)"
   ]
  },
  {
   "cell_type": "code",
   "execution_count": 3,
   "metadata": {},
   "outputs": [],
   "source": [
    "# Cell 2: Funções para carregar e preparar dados\n",
    "def load_and_prepare_data(directory, window_size):\n",
    "    all_frames = []\n",
    "    valid_csv_count = 0  # Contador para arquivos CSV válidos\n",
    "\n",
    "    for filename in os.listdir(directory):\n",
    "        if filename.startswith('angles'):  # Alterado para 'low_pass_angles'\n",
    "            df = pd.read_csv(f'{directory}/{filename}')\n",
    "            \n",
    "            # Verificar se o DataFrame não está vazio\n",
    "            if not df.empty:\n",
    "                valid_csv_count += 1\n",
    "                # Tratamento de outliers e média móvel\n",
    "                df = df.clip(lower=df.quantile(0.01), upper=df.quantile(0.99), axis=1)\n",
    "                df = df.rolling(window=window_size, min_periods=1).mean()\n",
    "                all_frames.append(df)\n",
    "\n",
    "    if valid_csv_count == 0:\n",
    "        print(\"Nenhum arquivo CSV válido encontrado.\")\n",
    "    else:\n",
    "        print(f\"Arquivos CSV válidos encontrados: {valid_csv_count}\")\n",
    "    \n",
    "    return pd.concat(all_frames)\n",
    "\n",
    "# Cell 2: Modified function to create time series data\n",
    "def create_time_series_data(data, n_steps):\n",
    "    X = []\n",
    "    for i in range(len(data) - n_steps):\n",
    "        seq_x = data[i:i+n_steps]\n",
    "        X.append(seq_x)\n",
    "    return np.array(X)\n",
    "\n",
    "# Usando a função modificada\n",
    "n_predict = 10  # Número de frames a serem previstos\n",
    "\n",
    "#0.3\n",
    "def augment_data(data, noise_level=0.05, time_shift=3, use_noise=True, use_shift=True, reduction_factor=1.0):\n",
    "    augmented_data = [data]\n",
    "\n",
    "    if use_noise:\n",
    "        # Adding noise\n",
    "        noise = np.random.normal(0, noise_level, data.shape)\n",
    "        data_noisy = data + noise\n",
    "        augmented_data.append(data_noisy)\n",
    "\n",
    "    if use_shift:\n",
    "        # Time shifting\n",
    "        data_shifted = np.roll(data, time_shift, axis=0)\n",
    "        augmented_data.append(data_shifted)\n",
    "\n",
    "    # Concatenate original and augmented data\n",
    "    augmented_data = np.vstack(augmented_data)\n",
    "\n",
    "    # Select a random subset of the augmented data\n",
    "    np.random.shuffle(augmented_data)\n",
    "    reduced_size = int(len(augmented_data) * reduction_factor)\n",
    "    augmented_data = augmented_data[:reduced_size]\n",
    "\n",
    "    return augmented_data"
   ]
  },
  {
   "cell_type": "code",
   "execution_count": 4,
   "metadata": {},
   "outputs": [
    {
     "name": "stdout",
     "output_type": "stream",
     "text": [
      "Arquivos CSV válidos encontrados: 100\n"
     ]
    }
   ],
   "source": [
    "# Cell 3: Construção do Autoencoder LSTM\n",
    "import os\n",
    "\n",
    "from keras.layers import RepeatVector, TimeDistributed\n",
    "from keras.regularizers import l2\n",
    "from keras.layers import Dropout\n",
    "\n",
    "# Carregar dados\n",
    "directory = 'InfinityRepVideos/armraise/csv'\n",
    "window_size = 3\n",
    "data = load_and_prepare_data(directory, window_size)\n",
    "\n",
    "# Aplicar aumento de dados\n",
    "data_augmented = augment_data(data, use_noise=True, use_shift=False)\n",
    "\n",
    "# Escalar dados\n",
    "scaler = MinMaxScaler(feature_range=(0, 1))\n",
    "scaled_data = scaler.fit_transform(data_augmented)\n",
    "\n",
    "# Salvar o scaler para uso posterior\n",
    "joblib.dump(scaler, 'InfinityRepVideos/armraise/model/autoencoder_lstm_scaler.save')\n",
    "\n",
    "# Preparar dados para LSTM\n",
    "n_steps = 48  # Número de frames por sequência\n",
    "n_features = scaled_data.shape[1]  # Número de características\n",
    "X = create_time_series_data(scaled_data, n_steps)\n",
    "\n",
    "# Hiperparâmetros\n",
    "learning_rate = 0.001\n",
    "n_units = 300\n",
    "another_n_units = 150\n",
    "batch_size = 32\n",
    "\n",
    "# Construir o modelo Autoencoder LSTM\n",
    "model = Sequential()\n",
    "\n",
    "# Encoder\n",
    "model.add(LSTM(units=n_units, activation='relu', kernel_regularizer=l2(0.01), input_shape=(n_steps, n_features), return_sequences=False))\n",
    "model.add(Dropout(0.2)) \n",
    "model.add(RepeatVector(n_steps))\n",
    "\n",
    "# Add more encoder layers\n",
    "model.add(LSTM(units=another_n_units, activation='relu', kernel_regularizer=l2(0.01), return_sequences=False))\n",
    "model.add(Dropout(0.2))\n",
    "model.add(RepeatVector(n_steps))\n",
    "\n",
    "# Decoder\n",
    "model.add(LSTM(units=n_units, activation='relu', return_sequences=True))\n",
    "model.add(TimeDistributed(Dense(n_features)))\n",
    "\n",
    "# Add more decoder layers\n",
    "model.add(LSTM(units=another_n_units, activation='relu', return_sequences=True))\n",
    "model.add(TimeDistributed(Dense(n_features)))\n",
    "\n",
    "# Compilar o modelo\n",
    "model.compile(optimizer=Adam(learning_rate=learning_rate), loss='mse')\n",
    "\n",
    "# Callbacks\n",
    "early_stopping = EarlyStopping(monitor='val_loss', patience=10, verbose=1, mode='min', restore_best_weights=True)\n",
    "model_checkpoint = ModelCheckpoint('InfinityRepVideos/armraise/model/221223_100_50epochs_16batch_dropout02_autoencoder_lstm_best_model.h5', monitor='val_loss', mode='min', save_best_only=True, verbose=1)"
   ]
  },
  {
   "cell_type": "code",
   "execution_count": 5,
   "metadata": {},
   "outputs": [
    {
     "name": "stdout",
     "output_type": "stream",
     "text": [
      "Treinando Fold 1...\n",
      "Epoch 1/10\n",
      "1063/8901 [==>...........................] - ETA: 6:49 - loss: 0.1228"
     ]
    },
    {
     "ename": "KeyboardInterrupt",
     "evalue": "",
     "output_type": "error",
     "traceback": [
      "\u001b[0;31m---------------------------------------------------------------------------\u001b[0m",
      "\u001b[0;31mKeyboardInterrupt\u001b[0m                         Traceback (most recent call last)",
      "\u001b[1;32m/home/coimbra/Desktop/Main/LSTM_1.5.7.ipynb Cell 6\u001b[0m line \u001b[0;36m1\n\u001b[1;32m     <a href='vscode-notebook-cell:/home/coimbra/Desktop/Main/LSTM_1.5.7.ipynb#W5sZmlsZQ%3D%3D?line=9'>10</a>\u001b[0m X_train, X_val \u001b[39m=\u001b[39m X[train_index], X[val_index]\n\u001b[1;32m     <a href='vscode-notebook-cell:/home/coimbra/Desktop/Main/LSTM_1.5.7.ipynb#W5sZmlsZQ%3D%3D?line=11'>12</a>\u001b[0m \u001b[39mprint\u001b[39m(\u001b[39mf\u001b[39m\u001b[39m\"\u001b[39m\u001b[39mTreinando Fold \u001b[39m\u001b[39m{\u001b[39;00mfold\u001b[39m}\u001b[39;00m\u001b[39m...\u001b[39m\u001b[39m\"\u001b[39m)\n\u001b[0;32m---> <a href='vscode-notebook-cell:/home/coimbra/Desktop/Main/LSTM_1.5.7.ipynb#W5sZmlsZQ%3D%3D?line=12'>13</a>\u001b[0m history \u001b[39m=\u001b[39m model\u001b[39m.\u001b[39;49mfit(X_train, X_train, epochs\u001b[39m=\u001b[39;49m\u001b[39m10\u001b[39;49m, batch_size\u001b[39m=\u001b[39;49mbatch_size, validation_data\u001b[39m=\u001b[39;49m(X_val, X_val), callbacks\u001b[39m=\u001b[39;49m[early_stopping, model_checkpoint], verbose\u001b[39m=\u001b[39;49m\u001b[39m1\u001b[39;49m)\n\u001b[1;32m     <a href='vscode-notebook-cell:/home/coimbra/Desktop/Main/LSTM_1.5.7.ipynb#W5sZmlsZQ%3D%3D?line=14'>15</a>\u001b[0m \u001b[39m# Após o treinamento, você pode querer avaliar o desempenho do modelo na validação\u001b[39;00m\n\u001b[1;32m     <a href='vscode-notebook-cell:/home/coimbra/Desktop/Main/LSTM_1.5.7.ipynb#W5sZmlsZQ%3D%3D?line=15'>16</a>\u001b[0m \u001b[39m# No caso de um autoencoder, isso pode ser feito usando a perda de reconstrução\u001b[39;00m\n\u001b[1;32m     <a href='vscode-notebook-cell:/home/coimbra/Desktop/Main/LSTM_1.5.7.ipynb#W5sZmlsZQ%3D%3D?line=16'>17</a>\u001b[0m val_loss \u001b[39m=\u001b[39m model\u001b[39m.\u001b[39mevaluate(X_val, X_val)\n",
      "File \u001b[0;32m~/myenv/lib/python3.8/site-packages/keras/src/utils/traceback_utils.py:65\u001b[0m, in \u001b[0;36mfilter_traceback.<locals>.error_handler\u001b[0;34m(*args, **kwargs)\u001b[0m\n\u001b[1;32m     63\u001b[0m filtered_tb \u001b[39m=\u001b[39m \u001b[39mNone\u001b[39;00m\n\u001b[1;32m     64\u001b[0m \u001b[39mtry\u001b[39;00m:\n\u001b[0;32m---> 65\u001b[0m     \u001b[39mreturn\u001b[39;00m fn(\u001b[39m*\u001b[39;49margs, \u001b[39m*\u001b[39;49m\u001b[39m*\u001b[39;49mkwargs)\n\u001b[1;32m     66\u001b[0m \u001b[39mexcept\u001b[39;00m \u001b[39mException\u001b[39;00m \u001b[39mas\u001b[39;00m e:\n\u001b[1;32m     67\u001b[0m     filtered_tb \u001b[39m=\u001b[39m _process_traceback_frames(e\u001b[39m.\u001b[39m__traceback__)\n",
      "File \u001b[0;32m~/myenv/lib/python3.8/site-packages/keras/src/engine/training.py:1742\u001b[0m, in \u001b[0;36mModel.fit\u001b[0;34m(self, x, y, batch_size, epochs, verbose, callbacks, validation_split, validation_data, shuffle, class_weight, sample_weight, initial_epoch, steps_per_epoch, validation_steps, validation_batch_size, validation_freq, max_queue_size, workers, use_multiprocessing)\u001b[0m\n\u001b[1;32m   1734\u001b[0m \u001b[39mwith\u001b[39;00m tf\u001b[39m.\u001b[39mprofiler\u001b[39m.\u001b[39mexperimental\u001b[39m.\u001b[39mTrace(\n\u001b[1;32m   1735\u001b[0m     \u001b[39m\"\u001b[39m\u001b[39mtrain\u001b[39m\u001b[39m\"\u001b[39m,\n\u001b[1;32m   1736\u001b[0m     epoch_num\u001b[39m=\u001b[39mepoch,\n\u001b[0;32m   (...)\u001b[0m\n\u001b[1;32m   1739\u001b[0m     _r\u001b[39m=\u001b[39m\u001b[39m1\u001b[39m,\n\u001b[1;32m   1740\u001b[0m ):\n\u001b[1;32m   1741\u001b[0m     callbacks\u001b[39m.\u001b[39mon_train_batch_begin(step)\n\u001b[0;32m-> 1742\u001b[0m     tmp_logs \u001b[39m=\u001b[39m \u001b[39mself\u001b[39;49m\u001b[39m.\u001b[39;49mtrain_function(iterator)\n\u001b[1;32m   1743\u001b[0m     \u001b[39mif\u001b[39;00m data_handler\u001b[39m.\u001b[39mshould_sync:\n\u001b[1;32m   1744\u001b[0m         context\u001b[39m.\u001b[39masync_wait()\n",
      "File \u001b[0;32m~/myenv/lib/python3.8/site-packages/tensorflow/python/util/traceback_utils.py:150\u001b[0m, in \u001b[0;36mfilter_traceback.<locals>.error_handler\u001b[0;34m(*args, **kwargs)\u001b[0m\n\u001b[1;32m    148\u001b[0m filtered_tb \u001b[39m=\u001b[39m \u001b[39mNone\u001b[39;00m\n\u001b[1;32m    149\u001b[0m \u001b[39mtry\u001b[39;00m:\n\u001b[0;32m--> 150\u001b[0m   \u001b[39mreturn\u001b[39;00m fn(\u001b[39m*\u001b[39;49margs, \u001b[39m*\u001b[39;49m\u001b[39m*\u001b[39;49mkwargs)\n\u001b[1;32m    151\u001b[0m \u001b[39mexcept\u001b[39;00m \u001b[39mException\u001b[39;00m \u001b[39mas\u001b[39;00m e:\n\u001b[1;32m    152\u001b[0m   filtered_tb \u001b[39m=\u001b[39m _process_traceback_frames(e\u001b[39m.\u001b[39m__traceback__)\n",
      "File \u001b[0;32m~/myenv/lib/python3.8/site-packages/tensorflow/python/eager/polymorphic_function/polymorphic_function.py:825\u001b[0m, in \u001b[0;36mFunction.__call__\u001b[0;34m(self, *args, **kwds)\u001b[0m\n\u001b[1;32m    822\u001b[0m compiler \u001b[39m=\u001b[39m \u001b[39m\"\u001b[39m\u001b[39mxla\u001b[39m\u001b[39m\"\u001b[39m \u001b[39mif\u001b[39;00m \u001b[39mself\u001b[39m\u001b[39m.\u001b[39m_jit_compile \u001b[39melse\u001b[39;00m \u001b[39m\"\u001b[39m\u001b[39mnonXla\u001b[39m\u001b[39m\"\u001b[39m\n\u001b[1;32m    824\u001b[0m \u001b[39mwith\u001b[39;00m OptionalXlaContext(\u001b[39mself\u001b[39m\u001b[39m.\u001b[39m_jit_compile):\n\u001b[0;32m--> 825\u001b[0m   result \u001b[39m=\u001b[39m \u001b[39mself\u001b[39;49m\u001b[39m.\u001b[39;49m_call(\u001b[39m*\u001b[39;49margs, \u001b[39m*\u001b[39;49m\u001b[39m*\u001b[39;49mkwds)\n\u001b[1;32m    827\u001b[0m new_tracing_count \u001b[39m=\u001b[39m \u001b[39mself\u001b[39m\u001b[39m.\u001b[39mexperimental_get_tracing_count()\n\u001b[1;32m    828\u001b[0m without_tracing \u001b[39m=\u001b[39m (tracing_count \u001b[39m==\u001b[39m new_tracing_count)\n",
      "File \u001b[0;32m~/myenv/lib/python3.8/site-packages/tensorflow/python/eager/polymorphic_function/polymorphic_function.py:857\u001b[0m, in \u001b[0;36mFunction._call\u001b[0;34m(self, *args, **kwds)\u001b[0m\n\u001b[1;32m    854\u001b[0m   \u001b[39mself\u001b[39m\u001b[39m.\u001b[39m_lock\u001b[39m.\u001b[39mrelease()\n\u001b[1;32m    855\u001b[0m   \u001b[39m# In this case we have created variables on the first call, so we run the\u001b[39;00m\n\u001b[1;32m    856\u001b[0m   \u001b[39m# defunned version which is guaranteed to never create variables.\u001b[39;00m\n\u001b[0;32m--> 857\u001b[0m   \u001b[39mreturn\u001b[39;00m \u001b[39mself\u001b[39;49m\u001b[39m.\u001b[39;49m_no_variable_creation_fn(\u001b[39m*\u001b[39;49margs, \u001b[39m*\u001b[39;49m\u001b[39m*\u001b[39;49mkwds)  \u001b[39m# pylint: disable=not-callable\u001b[39;00m\n\u001b[1;32m    858\u001b[0m \u001b[39melif\u001b[39;00m \u001b[39mself\u001b[39m\u001b[39m.\u001b[39m_variable_creation_fn \u001b[39mis\u001b[39;00m \u001b[39mnot\u001b[39;00m \u001b[39mNone\u001b[39;00m:\n\u001b[1;32m    859\u001b[0m   \u001b[39m# Release the lock early so that multiple threads can perform the call\u001b[39;00m\n\u001b[1;32m    860\u001b[0m   \u001b[39m# in parallel.\u001b[39;00m\n\u001b[1;32m    861\u001b[0m   \u001b[39mself\u001b[39m\u001b[39m.\u001b[39m_lock\u001b[39m.\u001b[39mrelease()\n",
      "File \u001b[0;32m~/myenv/lib/python3.8/site-packages/tensorflow/python/eager/polymorphic_function/tracing_compiler.py:148\u001b[0m, in \u001b[0;36mTracingCompiler.__call__\u001b[0;34m(self, *args, **kwargs)\u001b[0m\n\u001b[1;32m    145\u001b[0m \u001b[39mwith\u001b[39;00m \u001b[39mself\u001b[39m\u001b[39m.\u001b[39m_lock:\n\u001b[1;32m    146\u001b[0m   (concrete_function,\n\u001b[1;32m    147\u001b[0m    filtered_flat_args) \u001b[39m=\u001b[39m \u001b[39mself\u001b[39m\u001b[39m.\u001b[39m_maybe_define_function(args, kwargs)\n\u001b[0;32m--> 148\u001b[0m \u001b[39mreturn\u001b[39;00m concrete_function\u001b[39m.\u001b[39;49m_call_flat(\n\u001b[1;32m    149\u001b[0m     filtered_flat_args, captured_inputs\u001b[39m=\u001b[39;49mconcrete_function\u001b[39m.\u001b[39;49mcaptured_inputs)\n",
      "File \u001b[0;32m~/myenv/lib/python3.8/site-packages/tensorflow/python/eager/polymorphic_function/monomorphic_function.py:1349\u001b[0m, in \u001b[0;36mConcreteFunction._call_flat\u001b[0;34m(self, args, captured_inputs)\u001b[0m\n\u001b[1;32m   1345\u001b[0m possible_gradient_type \u001b[39m=\u001b[39m gradients_util\u001b[39m.\u001b[39mPossibleTapeGradientTypes(args)\n\u001b[1;32m   1346\u001b[0m \u001b[39mif\u001b[39;00m (possible_gradient_type \u001b[39m==\u001b[39m gradients_util\u001b[39m.\u001b[39mPOSSIBLE_GRADIENT_TYPES_NONE\n\u001b[1;32m   1347\u001b[0m     \u001b[39mand\u001b[39;00m executing_eagerly):\n\u001b[1;32m   1348\u001b[0m   \u001b[39m# No tape is watching; skip to running the function.\u001b[39;00m\n\u001b[0;32m-> 1349\u001b[0m   \u001b[39mreturn\u001b[39;00m \u001b[39mself\u001b[39m\u001b[39m.\u001b[39m_build_call_outputs(\u001b[39mself\u001b[39;49m\u001b[39m.\u001b[39;49m_inference_function(\u001b[39m*\u001b[39;49margs))\n\u001b[1;32m   1350\u001b[0m forward_backward \u001b[39m=\u001b[39m \u001b[39mself\u001b[39m\u001b[39m.\u001b[39m_select_forward_and_backward_functions(\n\u001b[1;32m   1351\u001b[0m     args,\n\u001b[1;32m   1352\u001b[0m     possible_gradient_type,\n\u001b[1;32m   1353\u001b[0m     executing_eagerly)\n\u001b[1;32m   1354\u001b[0m forward_function, args_with_tangents \u001b[39m=\u001b[39m forward_backward\u001b[39m.\u001b[39mforward()\n",
      "File \u001b[0;32m~/myenv/lib/python3.8/site-packages/tensorflow/python/eager/polymorphic_function/atomic_function.py:196\u001b[0m, in \u001b[0;36mAtomicFunction.__call__\u001b[0;34m(self, *args)\u001b[0m\n\u001b[1;32m    194\u001b[0m \u001b[39mwith\u001b[39;00m record\u001b[39m.\u001b[39mstop_recording():\n\u001b[1;32m    195\u001b[0m   \u001b[39mif\u001b[39;00m \u001b[39mself\u001b[39m\u001b[39m.\u001b[39m_bound_context\u001b[39m.\u001b[39mexecuting_eagerly():\n\u001b[0;32m--> 196\u001b[0m     outputs \u001b[39m=\u001b[39m \u001b[39mself\u001b[39;49m\u001b[39m.\u001b[39;49m_bound_context\u001b[39m.\u001b[39;49mcall_function(\n\u001b[1;32m    197\u001b[0m         \u001b[39mself\u001b[39;49m\u001b[39m.\u001b[39;49mname,\n\u001b[1;32m    198\u001b[0m         \u001b[39mlist\u001b[39;49m(args),\n\u001b[1;32m    199\u001b[0m         \u001b[39mlen\u001b[39;49m(\u001b[39mself\u001b[39;49m\u001b[39m.\u001b[39;49mfunction_type\u001b[39m.\u001b[39;49mflat_outputs),\n\u001b[1;32m    200\u001b[0m     )\n\u001b[1;32m    201\u001b[0m   \u001b[39melse\u001b[39;00m:\n\u001b[1;32m    202\u001b[0m     outputs \u001b[39m=\u001b[39m make_call_op_in_graph(\u001b[39mself\u001b[39m, \u001b[39mlist\u001b[39m(args))\n",
      "File \u001b[0;32m~/myenv/lib/python3.8/site-packages/tensorflow/python/eager/context.py:1457\u001b[0m, in \u001b[0;36mContext.call_function\u001b[0;34m(self, name, tensor_inputs, num_outputs)\u001b[0m\n\u001b[1;32m   1455\u001b[0m cancellation_context \u001b[39m=\u001b[39m cancellation\u001b[39m.\u001b[39mcontext()\n\u001b[1;32m   1456\u001b[0m \u001b[39mif\u001b[39;00m cancellation_context \u001b[39mis\u001b[39;00m \u001b[39mNone\u001b[39;00m:\n\u001b[0;32m-> 1457\u001b[0m   outputs \u001b[39m=\u001b[39m execute\u001b[39m.\u001b[39;49mexecute(\n\u001b[1;32m   1458\u001b[0m       name\u001b[39m.\u001b[39;49mdecode(\u001b[39m\"\u001b[39;49m\u001b[39mutf-8\u001b[39;49m\u001b[39m\"\u001b[39;49m),\n\u001b[1;32m   1459\u001b[0m       num_outputs\u001b[39m=\u001b[39;49mnum_outputs,\n\u001b[1;32m   1460\u001b[0m       inputs\u001b[39m=\u001b[39;49mtensor_inputs,\n\u001b[1;32m   1461\u001b[0m       attrs\u001b[39m=\u001b[39;49mattrs,\n\u001b[1;32m   1462\u001b[0m       ctx\u001b[39m=\u001b[39;49m\u001b[39mself\u001b[39;49m,\n\u001b[1;32m   1463\u001b[0m   )\n\u001b[1;32m   1464\u001b[0m \u001b[39melse\u001b[39;00m:\n\u001b[1;32m   1465\u001b[0m   outputs \u001b[39m=\u001b[39m execute\u001b[39m.\u001b[39mexecute_with_cancellation(\n\u001b[1;32m   1466\u001b[0m       name\u001b[39m.\u001b[39mdecode(\u001b[39m\"\u001b[39m\u001b[39mutf-8\u001b[39m\u001b[39m\"\u001b[39m),\n\u001b[1;32m   1467\u001b[0m       num_outputs\u001b[39m=\u001b[39mnum_outputs,\n\u001b[0;32m   (...)\u001b[0m\n\u001b[1;32m   1471\u001b[0m       cancellation_manager\u001b[39m=\u001b[39mcancellation_context,\n\u001b[1;32m   1472\u001b[0m   )\n",
      "File \u001b[0;32m~/myenv/lib/python3.8/site-packages/tensorflow/python/eager/execute.py:53\u001b[0m, in \u001b[0;36mquick_execute\u001b[0;34m(op_name, num_outputs, inputs, attrs, ctx, name)\u001b[0m\n\u001b[1;32m     51\u001b[0m \u001b[39mtry\u001b[39;00m:\n\u001b[1;32m     52\u001b[0m   ctx\u001b[39m.\u001b[39mensure_initialized()\n\u001b[0;32m---> 53\u001b[0m   tensors \u001b[39m=\u001b[39m pywrap_tfe\u001b[39m.\u001b[39;49mTFE_Py_Execute(ctx\u001b[39m.\u001b[39;49m_handle, device_name, op_name,\n\u001b[1;32m     54\u001b[0m                                       inputs, attrs, num_outputs)\n\u001b[1;32m     55\u001b[0m \u001b[39mexcept\u001b[39;00m core\u001b[39m.\u001b[39m_NotOkStatusException \u001b[39mas\u001b[39;00m e:\n\u001b[1;32m     56\u001b[0m   \u001b[39mif\u001b[39;00m name \u001b[39mis\u001b[39;00m \u001b[39mnot\u001b[39;00m \u001b[39mNone\u001b[39;00m:\n",
      "\u001b[0;31mKeyboardInterrupt\u001b[0m: "
     ]
    }
   ],
   "source": [
    "# Cell 4: Treinamento do Modelo com Validação Cruzada K-Fold\n",
    "# Inicializar listas para armazenar perdas de treinamento e perdas de validação em cada fold\n",
    "train_losses = []\n",
    "val_losses = []\n",
    "\n",
    "kf = KFold(n_splits=5)\n",
    "\n",
    "fold = 1\n",
    "for train_index, val_index in kf.split(X):\n",
    "    X_train, X_val = X[train_index], X[val_index]\n",
    "\n",
    "    print(f\"Treinando Fold {fold}...\")\n",
    "    history = model.fit(X_train, X_train, epochs=300, batch_size=batch_size, validation_data=(X_val, X_val), callbacks=[early_stopping, model_checkpoint], verbose=1)\n",
    "\n",
    "    val_loss = model.evaluate(X_val, X_val)\n",
    "    print(f'Perda de Validação para o Fold {fold}: {val_loss}')\n",
    "\n",
    "    fold += 1"
   ]
  },
  {
   "cell_type": "code",
   "execution_count": null,
   "metadata": {},
   "outputs": [
    {
     "name": "stdout",
     "output_type": "stream",
     "text": [
      "1113/1113 [==============================] - 27s 23ms/step\n",
      "Erro de Reconstrução Médio: 0.01976714910126847\n",
      "Erro de Reconstrução Máximo: 0.03137768151283172\n"
     ]
    },
    {
     "data": {
      "image/png": "[encoded data removed]",
      "text/plain": [
       "<Figure size 640x480 with 1 Axes>"
      ]
     },
     "metadata": {},
     "output_type": "display_data"
    },
    {
     "name": "stdout",
     "output_type": "stream",
     "text": [
      "Limiar de Detecção de Anomalias: 0.01888204895653068\n"
     ]
    }
   ],
   "source": [
    "# Cell 5: Plotagem de Gráficos\n",
    "\n",
    "# Após o treinamento, você pode calcular os erros de reconstrução e plotar um histograma\n",
    "reconstructions = model.predict(X_val)\n",
    "reconstruction_errors = np.mean(np.square(X_val - reconstructions), axis=(1, 2))  # Erros de reconstrução médios por amostra\n",
    "\n",
    "# Lidar com valores NaN substituindo-os por zero\n",
    "reconstruction_errors = np.nan_to_num(reconstruction_errors, nan=0.0)\n",
    "\n",
    "print(f'Erro de Reconstrução Médio: {reconstruction_errors.mean()}')\n",
    "print(f'Erro de Reconstrução Máximo: {reconstruction_errors.max()}')\n",
    "\n",
    "# Plotar um histograma dos erros de reconstrução e encontrar o bin com a maior frequência\n",
    "counts, bin_edges = np.histogram(reconstruction_errors, bins=50)\n",
    "max_count_idx = np.argmax(counts)\n",
    "peak_bin = (bin_edges[max_count_idx] + bin_edges[max_count_idx + 1]) / 2\n",
    "\n",
    "# Plotar o histograma\n",
    "plt.hist(reconstruction_errors, bins=50)\n",
    "plt.title('Histograma de Erros de Reconstrução')\n",
    "plt.xlabel('Erro de Reconstrução')\n",
    "plt.ylabel('Frequência')\n",
    "\n",
    "# Desenhar uma linha no pico do histograma\n",
    "plt.axvline(x=peak_bin, color='r', linestyle='--', label=f'Limiar no Pico: {peak_bin:.3f}')\n",
    "plt.legend()\n",
    "\n",
    "plt.show()\n",
    "\n",
    "# Atualizar o limiar de detecção de anomalias para o valor do pico\n",
    "anomaly_threshold = peak_bin\n",
    "print(f'Limiar de Detecção de Anomalias: {anomaly_threshold}')"
   ]
  }
 ],
 "metadata": {
  "kernelspec": {
   "display_name": "myenv",
   "language": "python",
   "name": "python3"
  },
  "language_info": {
   "codemirror_mode": {
    "name": "ipython",
    "version": 3
   },
   "file_extension": ".py",
   "mimetype": "text/x-python",
   "name": "python",
   "nbconvert_exporter": "python",
   "pygments_lexer": "ipython3",
   "version": "3.8.10"
  }
 },
 "nbformat": 4,
 "nbformat_minor": 2
}
